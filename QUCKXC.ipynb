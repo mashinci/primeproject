{
 "cells": [
  {
   "cell_type": "code",
   "execution_count": null,
   "metadata": {},
   "outputs": [],
   "source": [
    "import polars as pl\n",
    "from sqlalchemy import create_engine, text\n",
    "import pandas as pd"
   ]
  },
  {
   "cell_type": "code",
   "execution_count": null,
   "metadata": {},
   "outputs": [],
   "source": [
    "df = pl.read_csv(\"2019-Oct.csv\")\n",
    "len(df)"
   ]
  },
  {
   "cell_type": "code",
   "execution_count": null,
   "metadata": {},
   "outputs": [],
   "source": [
    "pg_ts_user = 'postgres',\n",
    "pg_ts_password = 'a5TKQ7SSVGFuQIz5',\n",
    "pg_ts_hostname = 'primeds.protal.biz:30308',\n",
    "pg_ts_db_name = 'postgres'"
   ]
  },
  {
   "cell_type": "code",
   "execution_count": null,
   "metadata": {},
   "outputs": [],
   "source": [
    "pg_engine = create_engine(f'postgresql+psycopg2://{pg_ts_user}:{pg_ts_password}@{pg_ts_hostname}/{pg_ts_db_name}')\n",
    "pg_conn = pg_engine.connect()\n",
    "\n",
    "query1 = f\"SELECT * FROM staging.ecommerce\"\n",
    "df = pd.read_sql(text(query1), pg_conn)\n",
    "\n",
    "pg_conn.close()\n",
    "\n",
    "df"
   ]
  }
 ],
 "metadata": {
  "kernelspec": {
   "display_name": "Python 3",
   "language": "python",
   "name": "python3"
  },
  "language_info": {
   "codemirror_mode": {
    "name": "ipython",
    "version": 3
   },
   "file_extension": ".py",
   "mimetype": "text/x-python",
   "name": "python",
   "nbconvert_exporter": "python",
   "pygments_lexer": "ipython3",
   "version": "3.10.10"
  },
  "orig_nbformat": 4
 },
 "nbformat": 4,
 "nbformat_minor": 2
}
