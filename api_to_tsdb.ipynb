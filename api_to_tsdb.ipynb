{
 "cells": [
  {
   "attachments": {},
   "cell_type": "markdown",
   "metadata": {},
   "source": [
    "### Importing necessary libraries"
   ]
  },
  {
   "cell_type": "code",
   "execution_count": 1,
   "metadata": {},
   "outputs": [],
   "source": [
    "import requests\n",
    "import pandas as pd\n",
    "from sqlalchemy import create_engine, text"
   ]
  },
  {
   "attachments": {},
   "cell_type": "markdown",
   "metadata": {},
   "source": [
    "### Making an API request to get the daily data on IBM stocks for the last 20+ years"
   ]
  },
  {
   "cell_type": "code",
   "execution_count": 2,
   "metadata": {},
   "outputs": [],
   "source": [
    "url = 'https://www.alphavantage.co/query?function=TIME_SERIES_DAILY_ADJUSTED&symbol=IBM&apikey=8F0QJ66VEZNV8T3L&outputsize=full'\n",
    "r = requests.get(url)\n",
    "data = r.json()"
   ]
  },
  {
   "attachments": {},
   "cell_type": "markdown",
   "metadata": {},
   "source": [
    "### Working around JSON formatting"
   ]
  },
  {
   "cell_type": "code",
   "execution_count": 3,
   "metadata": {},
   "outputs": [],
   "source": [
    "final_data = []\n",
    "for time, data in data[\"Time Series (Daily)\"].items():\n",
    "    observation_dict = {\n",
    "        \"timestamp\" : time,\n",
    "        \"open\" : float(data[\"1. open\"]),\n",
    "        \"high\" : float(data[\"2. high\"]),\n",
    "        \"low\" : float(data[\"3. low\"]),\n",
    "        \"close\" : float(data[\"5. adjusted close\"])\n",
    "    }\n",
    "    final_data.append(observation_dict)"
   ]
  },
  {
   "attachments": {},
   "cell_type": "markdown",
   "metadata": {},
   "source": [
    "NOTE: The next cell is the easier, more pythonic way of doing this step, but iterating allows for real-time manipulation like for example type conversion we see here."
   ]
  },
  {
   "attachments": {},
   "cell_type": "markdown",
   "metadata": {},
   "source": [
    "Yavor's contribution to my silly from-scratch solution. (Which has benefits listed above)"
   ]
  },
  {
   "cell_type": "code",
   "execution_count": 4,
   "metadata": {},
   "outputs": [],
   "source": [
    "#df = pd.DataFrame(data[\"Time Series (Daily)\"])\n",
    "#df = df.transpose()\n",
    "# ... conversion ..."
   ]
  },
  {
   "attachments": {},
   "cell_type": "markdown",
   "metadata": {},
   "source": [
    "### Creating a DataFrame object to load as an SQL table later"
   ]
  },
  {
   "attachments": {},
   "cell_type": "markdown",
   "metadata": {},
   "source": [
    "NOTE: Converting the 'timestamp' column to a 'datetime' format."
   ]
  },
  {
   "cell_type": "code",
   "execution_count": 5,
   "metadata": {},
   "outputs": [
    {
     "data": {
      "text/html": [
       "<div>\n",
       "<style scoped>\n",
       "    .dataframe tbody tr th:only-of-type {\n",
       "        vertical-align: middle;\n",
       "    }\n",
       "\n",
       "    .dataframe tbody tr th {\n",
       "        vertical-align: top;\n",
       "    }\n",
       "\n",
       "    .dataframe thead th {\n",
       "        text-align: right;\n",
       "    }\n",
       "</style>\n",
       "<table border=\"1\" class=\"dataframe\">\n",
       "  <thead>\n",
       "    <tr style=\"text-align: right;\">\n",
       "      <th></th>\n",
       "      <th>timestamp</th>\n",
       "      <th>open</th>\n",
       "      <th>high</th>\n",
       "      <th>low</th>\n",
       "      <th>close</th>\n",
       "    </tr>\n",
       "  </thead>\n",
       "  <tbody>\n",
       "    <tr>\n",
       "      <th>0</th>\n",
       "      <td>2023-02-08</td>\n",
       "      <td>135.71</td>\n",
       "      <td>136.74</td>\n",
       "      <td>135.16</td>\n",
       "      <td>135.980000</td>\n",
       "    </tr>\n",
       "    <tr>\n",
       "      <th>1</th>\n",
       "      <td>2023-02-07</td>\n",
       "      <td>135.67</td>\n",
       "      <td>136.40</td>\n",
       "      <td>134.45</td>\n",
       "      <td>135.840000</td>\n",
       "    </tr>\n",
       "    <tr>\n",
       "      <th>2</th>\n",
       "      <td>2023-02-06</td>\n",
       "      <td>135.83</td>\n",
       "      <td>136.32</td>\n",
       "      <td>134.95</td>\n",
       "      <td>136.180000</td>\n",
       "    </tr>\n",
       "    <tr>\n",
       "      <th>3</th>\n",
       "      <td>2023-02-03</td>\n",
       "      <td>136.35</td>\n",
       "      <td>136.95</td>\n",
       "      <td>135.53</td>\n",
       "      <td>136.940000</td>\n",
       "    </tr>\n",
       "    <tr>\n",
       "      <th>4</th>\n",
       "      <td>2023-02-02</td>\n",
       "      <td>135.96</td>\n",
       "      <td>136.72</td>\n",
       "      <td>134.85</td>\n",
       "      <td>136.390000</td>\n",
       "    </tr>\n",
       "    <tr>\n",
       "      <th>...</th>\n",
       "      <td>...</td>\n",
       "      <td>...</td>\n",
       "      <td>...</td>\n",
       "      <td>...</td>\n",
       "      <td>...</td>\n",
       "    </tr>\n",
       "    <tr>\n",
       "      <th>5851</th>\n",
       "      <td>1999-11-05</td>\n",
       "      <td>92.75</td>\n",
       "      <td>92.94</td>\n",
       "      <td>90.19</td>\n",
       "      <td>49.728782</td>\n",
       "    </tr>\n",
       "    <tr>\n",
       "      <th>5852</th>\n",
       "      <td>1999-11-04</td>\n",
       "      <td>94.44</td>\n",
       "      <td>94.44</td>\n",
       "      <td>90.00</td>\n",
       "      <td>50.450607</td>\n",
       "    </tr>\n",
       "    <tr>\n",
       "      <th>5853</th>\n",
       "      <td>1999-11-03</td>\n",
       "      <td>95.87</td>\n",
       "      <td>95.94</td>\n",
       "      <td>93.50</td>\n",
       "      <td>51.998949</td>\n",
       "    </tr>\n",
       "    <tr>\n",
       "      <th>5854</th>\n",
       "      <td>1999-11-02</td>\n",
       "      <td>96.75</td>\n",
       "      <td>96.81</td>\n",
       "      <td>93.69</td>\n",
       "      <td>52.241394</td>\n",
       "    </tr>\n",
       "    <tr>\n",
       "      <th>5855</th>\n",
       "      <td>1999-11-01</td>\n",
       "      <td>98.50</td>\n",
       "      <td>98.81</td>\n",
       "      <td>96.37</td>\n",
       "      <td>53.310356</td>\n",
       "    </tr>\n",
       "  </tbody>\n",
       "</table>\n",
       "<p>5856 rows × 5 columns</p>\n",
       "</div>"
      ],
      "text/plain": [
       "      timestamp    open    high     low       close\n",
       "0    2023-02-08  135.71  136.74  135.16  135.980000\n",
       "1    2023-02-07  135.67  136.40  134.45  135.840000\n",
       "2    2023-02-06  135.83  136.32  134.95  136.180000\n",
       "3    2023-02-03  136.35  136.95  135.53  136.940000\n",
       "4    2023-02-02  135.96  136.72  134.85  136.390000\n",
       "...         ...     ...     ...     ...         ...\n",
       "5851 1999-11-05   92.75   92.94   90.19   49.728782\n",
       "5852 1999-11-04   94.44   94.44   90.00   50.450607\n",
       "5853 1999-11-03   95.87   95.94   93.50   51.998949\n",
       "5854 1999-11-02   96.75   96.81   93.69   52.241394\n",
       "5855 1999-11-01   98.50   98.81   96.37   53.310356\n",
       "\n",
       "[5856 rows x 5 columns]"
      ]
     },
     "execution_count": 5,
     "metadata": {},
     "output_type": "execute_result"
    }
   ],
   "source": [
    "df = pd.DataFrame(final_data)\n",
    "df[\"timestamp\"] = pd.to_datetime(df[\"timestamp\"])\n",
    "df"
   ]
  },
  {
   "attachments": {},
   "cell_type": "markdown",
   "metadata": {},
   "source": [
    "### Connecting to a TimescaleDB instance"
   ]
  },
  {
   "cell_type": "code",
   "execution_count": 6,
   "metadata": {},
   "outputs": [],
   "source": [
    "pg_user = 'postgres'\n",
    "pg_password = 'a5TKQ7SSVGFuQIz5'\n",
    "pg_hostname = 'primeds.protal.biz:30308'\n",
    "pg_db_name = 'postgres'\n",
    "\n",
    "pg_engine = create_engine(f'postgresql+psycopg2://{pg_user}:{pg_password}@{pg_hostname}/{pg_db_name}')\n",
    "pg_conn = pg_engine.connect()"
   ]
  },
  {
   "attachments": {},
   "cell_type": "markdown",
   "metadata": {},
   "source": [
    "### Creating a table that will hold the data and converting it into a hypertable which offers better performance"
   ]
  },
  {
   "cell_type": "code",
   "execution_count": 7,
   "metadata": {},
   "outputs": [],
   "source": [
    "table_query = '''CREATE TABLE IF NOT EXISTS staging.timetest2 (\n",
    "  timestamp    TIMESTAMPTZ       NOT NULL,\n",
    "  open         DOUBLE PRECISION  NULL,\n",
    "  high         DOUBLE PRECISION  NULL,\n",
    "  low          DOUBLE PRECISION  NULL,\n",
    "  close        DOUBLE PRECISION  NULL\n",
    ");'''\n",
    "result = pg_conn.execute(text(table_query))"
   ]
  },
  {
   "cell_type": "code",
   "execution_count": 8,
   "metadata": {},
   "outputs": [],
   "source": [
    "hypertable_query = '''SELECT create_hypertable('staging.timetest2', 'timestamp');'''\n",
    "result = pg_conn.execute(text(hypertable_query))"
   ]
  },
  {
   "attachments": {},
   "cell_type": "markdown",
   "metadata": {},
   "source": [
    "### Loading the data into a TimescaleDB table"
   ]
  },
  {
   "cell_type": "code",
   "execution_count": 9,
   "metadata": {},
   "outputs": [
    {
     "name": "stdout",
     "output_type": "stream",
     "text": [
      "762 ms ± 40.7 ms per loop (mean ± std. dev. of 7 runs, 1 loop each)\n"
     ]
    }
   ],
   "source": [
    "df.to_sql(\"timetest2\", pg_conn, index=False, if_exists='replace', schema='staging')\n",
    "pg_conn.commit()\n",
    "pg_conn.close()"
   ]
  },
  {
   "attachments": {},
   "cell_type": "markdown",
   "metadata": {},
   "source": [
    "### Load function time"
   ]
  },
  {
   "attachments": {},
   "cell_type": "markdown",
   "metadata": {},
   "source": [
    "CPU times: total: 46.9 ms\n",
    "Wall time: 773 ms"
   ]
  },
  {
   "attachments": {},
   "cell_type": "markdown",
   "metadata": {},
   "source": [
    "### Whole cell time"
   ]
  },
  {
   "attachments": {},
   "cell_type": "markdown",
   "metadata": {},
   "source": [
    "762 ms ± 40.7 ms per loop (mean ± std. dev. of 7 runs, 1 loop each)"
   ]
  }
 ],
 "metadata": {
  "kernelspec": {
   "display_name": "Python 3",
   "language": "python",
   "name": "python3"
  },
  "language_info": {
   "codemirror_mode": {
    "name": "ipython",
    "version": 3
   },
   "file_extension": ".py",
   "mimetype": "text/x-python",
   "name": "python",
   "nbconvert_exporter": "python",
   "pygments_lexer": "ipython3",
   "version": "3.10.10"
  },
  "orig_nbformat": 4,
  "vscode": {
   "interpreter": {
    "hash": "de615c66ee257c0389bcbf229078826ade5063a6e8bd8097815f156f931ba673"
   }
  }
 },
 "nbformat": 4,
 "nbformat_minor": 2
}
