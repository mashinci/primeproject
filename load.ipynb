{
 "cells": [
  {
   "attachments": {},
   "cell_type": "markdown",
   "metadata": {},
   "source": [
    "### Importing necessary libraries"
   ]
  },
  {
   "cell_type": "code",
   "execution_count": 1,
   "metadata": {},
   "outputs": [],
   "source": [
    "import influxdb_client\n",
    "from influxdb_client.client.write_api import SYNCHRONOUS\n",
    "import pandas as pd\n",
    "\n",
    "from sqlalchemy import create_engine"
   ]
  },
  {
   "attachments": {},
   "cell_type": "markdown",
   "metadata": {},
   "source": [
    "### Postgres connection (should be extracted from somewhere but since the repo is private, I don't think it matters)"
   ]
  },
  {
   "cell_type": "code",
   "execution_count": 2,
   "metadata": {},
   "outputs": [],
   "source": [
    "pg_user = 'ruser'\n",
    "pg_password = 'z4meTOiKGPDq'\n",
    "pg_hostname = 'primeds.protal.biz:31234'\n",
    "pg_db_name = 'anomaly_detection'\n",
    "\n",
    "pg_engine = create_engine(f'postgresql+psycopg2://{pg_user}:{pg_password}@{pg_hostname}/{pg_db_name}')\n",
    "pg_conn = pg_engine.connect()"
   ]
  },
  {
   "attachments": {},
   "cell_type": "markdown",
   "metadata": {},
   "source": [
    "### Counting different series in the dataset"
   ]
  },
  {
   "cell_type": "code",
   "execution_count": 4,
   "metadata": {},
   "outputs": [
    {
     "data": {
      "text/plain": [
       "ecommerce       624385\n",
       "g               142540\n",
       "cpu4             17568\n",
       "rver_res_eth     17568\n",
       "serv_res_eth     17568\n",
       "retail            1573\n",
       "Name: series_name, dtype: int64"
      ]
     },
     "execution_count": 4,
     "metadata": {},
     "output_type": "execute_result"
    }
   ],
   "source": [
    "series_query = '''SELECT CASE\n",
    "           WHEN d.parent_id = 5 THEN 'ecommerce'\n",
    "           WHEN d.parent_id = 19 THEN 'retail'\n",
    "           ELSE d.series_name\n",
    "           END AS series_name, f.observation_time AS time, f.actual_value AS value\n",
    "           FROM mvp.dimseries d INNER JOIN mvp.factobservation f ON f.seriesid = d.seriesid'''\n",
    "result = pg_conn.execute(series_query)\n",
    "\n",
    "mapped_df = pd.read_sql(series_query, pg_conn)\n",
    "mapped_df[\"series_name\"].value_counts()"
   ]
  },
  {
   "attachments": {},
   "cell_type": "markdown",
   "metadata": {},
   "source": [
    "### Filtering on the series with the most observations ('ecommerce')"
   ]
  },
  {
   "cell_type": "code",
   "execution_count": 5,
   "metadata": {},
   "outputs": [
    {
     "data": {
      "text/html": [
       "<div>\n",
       "<style scoped>\n",
       "    .dataframe tbody tr th:only-of-type {\n",
       "        vertical-align: middle;\n",
       "    }\n",
       "\n",
       "    .dataframe tbody tr th {\n",
       "        vertical-align: top;\n",
       "    }\n",
       "\n",
       "    .dataframe thead th {\n",
       "        text-align: right;\n",
       "    }\n",
       "</style>\n",
       "<table border=\"1\" class=\"dataframe\">\n",
       "  <thead>\n",
       "    <tr style=\"text-align: right;\">\n",
       "      <th></th>\n",
       "      <th>series_name</th>\n",
       "      <th>time</th>\n",
       "      <th>value</th>\n",
       "    </tr>\n",
       "  </thead>\n",
       "  <tbody>\n",
       "    <tr>\n",
       "      <th>0</th>\n",
       "      <td>ecommerce</td>\n",
       "      <td>2019-10-01 00:00:00+00</td>\n",
       "      <td>71.0</td>\n",
       "    </tr>\n",
       "    <tr>\n",
       "      <th>1</th>\n",
       "      <td>ecommerce</td>\n",
       "      <td>2019-10-01 00:01:00+00</td>\n",
       "      <td>73.0</td>\n",
       "    </tr>\n",
       "    <tr>\n",
       "      <th>2</th>\n",
       "      <td>ecommerce</td>\n",
       "      <td>2019-10-01 00:02:00+00</td>\n",
       "      <td>73.0</td>\n",
       "    </tr>\n",
       "    <tr>\n",
       "      <th>3</th>\n",
       "      <td>ecommerce</td>\n",
       "      <td>2019-10-01 00:03:00+00</td>\n",
       "      <td>59.0</td>\n",
       "    </tr>\n",
       "    <tr>\n",
       "      <th>4</th>\n",
       "      <td>ecommerce</td>\n",
       "      <td>2019-10-01 00:04:00+00</td>\n",
       "      <td>44.0</td>\n",
       "    </tr>\n",
       "    <tr>\n",
       "      <th>...</th>\n",
       "      <td>...</td>\n",
       "      <td>...</td>\n",
       "      <td>...</td>\n",
       "    </tr>\n",
       "    <tr>\n",
       "      <th>624380</th>\n",
       "      <td>ecommerce</td>\n",
       "      <td>2019-10-31 22:26:00+00</td>\n",
       "      <td>0.0</td>\n",
       "    </tr>\n",
       "    <tr>\n",
       "      <th>624381</th>\n",
       "      <td>ecommerce</td>\n",
       "      <td>2019-10-31 22:27:00+00</td>\n",
       "      <td>0.0</td>\n",
       "    </tr>\n",
       "    <tr>\n",
       "      <th>624382</th>\n",
       "      <td>ecommerce</td>\n",
       "      <td>2019-10-31 22:28:00+00</td>\n",
       "      <td>0.0</td>\n",
       "    </tr>\n",
       "    <tr>\n",
       "      <th>624383</th>\n",
       "      <td>ecommerce</td>\n",
       "      <td>2019-10-31 22:29:00+00</td>\n",
       "      <td>0.0</td>\n",
       "    </tr>\n",
       "    <tr>\n",
       "      <th>624384</th>\n",
       "      <td>ecommerce</td>\n",
       "      <td>2019-10-31 22:30:00+00</td>\n",
       "      <td>1.0</td>\n",
       "    </tr>\n",
       "  </tbody>\n",
       "</table>\n",
       "<p>624385 rows × 3 columns</p>\n",
       "</div>"
      ],
      "text/plain": [
       "       series_name                    time  value\n",
       "0        ecommerce  2019-10-01 00:00:00+00   71.0\n",
       "1        ecommerce  2019-10-01 00:01:00+00   73.0\n",
       "2        ecommerce  2019-10-01 00:02:00+00   73.0\n",
       "3        ecommerce  2019-10-01 00:03:00+00   59.0\n",
       "4        ecommerce  2019-10-01 00:04:00+00   44.0\n",
       "...            ...                     ...    ...\n",
       "624380   ecommerce  2019-10-31 22:26:00+00    0.0\n",
       "624381   ecommerce  2019-10-31 22:27:00+00    0.0\n",
       "624382   ecommerce  2019-10-31 22:28:00+00    0.0\n",
       "624383   ecommerce  2019-10-31 22:29:00+00    0.0\n",
       "624384   ecommerce  2019-10-31 22:30:00+00    1.0\n",
       "\n",
       "[624385 rows x 3 columns]"
      ]
     },
     "execution_count": 5,
     "metadata": {},
     "output_type": "execute_result"
    }
   ],
   "source": [
    "query = '''WITH mapped_table AS (SELECT CASE\n",
    "           WHEN d.parent_id = 5 THEN 'ecommerce'\n",
    "           WHEN d.parent_id = 19 THEN 'retail'\n",
    "           ELSE d.series_name\n",
    "           END AS series_name, f.observation_time AS time, f.actual_value AS value\n",
    "           FROM mvp.dimseries d INNER JOIN mvp.factobservation f ON f.seriesid = d.seriesid)\n",
    "           SELECT * FROM mapped_table\n",
    "           WHERE mapped_table.series_name = 'ecommerce' '''\n",
    "pg_conn = pg_engine.connect()\n",
    "result = pg_conn.execute(query)\n",
    "\n",
    "df = pd.read_sql(query, pg_conn)\n",
    "df"
   ]
  },
  {
   "attachments": {},
   "cell_type": "markdown",
   "metadata": {},
   "source": [
    "### InfluxDB connection"
   ]
  },
  {
   "cell_type": "code",
   "execution_count": 6,
   "metadata": {},
   "outputs": [],
   "source": [
    "bucket = \"nikola_test2\"\n",
    "org = \"primary\"\n",
    "token = \"t0XwAj_0orJy-4ETT9bz8Fi6XdSMDd5CyY_ndt_RD8v2Q5OdX1rk_JJZa7w1p9p0JXAO2ti_mzBhcmCYSexSiA==\"\n",
    "url=\"http://primeds.protal.biz:30254/\"\n",
    "\n",
    "client = influxdb_client.InfluxDBClient(\n",
    "    url=url,\n",
    "    token=token,\n",
    "    org=org\n",
    ")\n",
    "\n",
    "write_api = client.write_api(write_options=SYNCHRONOUS)"
   ]
  },
  {
   "attachments": {},
   "cell_type": "markdown",
   "metadata": {},
   "source": [
    "### Loading the DataFrame 1 by 1 allows for additional manipulation but slows down the process"
   ]
  },
  {
   "cell_type": "code",
   "execution_count": 7,
   "metadata": {},
   "outputs": [],
   "source": [
    "for index, row in df.iterrows():\n",
    "    p = influxdb_client.Point(\"factobservation\").tag(\"observation\", \"my_obs\").field(\"value\", float(row['value'])).time(row['time'])\n",
    "    write_api.write(bucket=bucket, org=org, record=p)\n",
    "client.close()"
   ]
  },
  {
   "attachments": {},
   "cell_type": "markdown",
   "metadata": {},
   "source": [
    "NOTE: To load this DF this way it will take about 4 hours to complete. I have loaded 1/6 of the data into Influx and it took 44mins. You can check it out in my bucket, it looks nice :D ."
   ]
  }
 ],
 "metadata": {
  "kernelspec": {
   "display_name": "base",
   "language": "python",
   "name": "python3"
  },
  "language_info": {
   "codemirror_mode": {
    "name": "ipython",
    "version": 3
   },
   "file_extension": ".py",
   "mimetype": "text/x-python",
   "name": "python",
   "nbconvert_exporter": "python",
   "pygments_lexer": "ipython3",
   "version": "3.9.13 (main, Aug 25 2022, 23:51:50) [MSC v.1916 64 bit (AMD64)]"
  },
  "orig_nbformat": 4,
  "vscode": {
   "interpreter": {
    "hash": "968180547ecb52f0dc58b64edef382460f554cd272eadd9fa4349a72ead84115"
   }
  }
 },
 "nbformat": 4,
 "nbformat_minor": 2
}
