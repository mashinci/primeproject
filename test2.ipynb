{
 "cells": [
  {
   "cell_type": "code",
   "execution_count": 4,
   "metadata": {},
   "outputs": [],
   "source": [
    "from sqlalchemy import create_engine, text"
   ]
  },
  {
   "cell_type": "code",
   "execution_count": 5,
   "metadata": {},
   "outputs": [],
   "source": [
    "pg_user = 'postgres'\n",
    "pg_password = 'a5TKQ7SSVGFuQIz5'\n",
    "pg_hostname = 'primeds.protal.biz:30308'\n",
    "pg_db_name = 'postgres'\n",
    "\n",
    "pg_engine = create_engine(f'postgresql+psycopg2://{pg_user}:{pg_password}@{pg_hostname}/{pg_db_name}')\n",
    "pg_conn = pg_engine.connect()"
   ]
  },
  {
   "cell_type": "code",
   "execution_count": 6,
   "metadata": {},
   "outputs": [
    {
     "data": {
      "text/plain": [
       "<sqlalchemy.engine.cursor.CursorResult at 0x258ddd519c0>"
      ]
     },
     "execution_count": 6,
     "metadata": {},
     "output_type": "execute_result"
    }
   ],
   "source": [
    "table_query = '''CREATE TABLE staging.transactions_fraud (\n",
    "  tx_datetime    TIMESTAMPTZ       NOT NULL,\n",
    "  customer_id         DOUBLE PRECISION  NULL,\n",
    "  terminal_id         DOUBLE PRECISION  NULL,\n",
    "  tx_amound          DOUBLE PRECISION  NULL,\n",
    "  tx_fraud        DOUBLE PRECISION  NULL,\n",
    "  tx_fraud_scenario        DOUBLE PRECISION  NULL\n",
    ");'''\n",
    "result = pg_conn.execute(text(table_query))"
   ]
  },
  {
   "cell_type": "code",
   "execution_count": 5,
   "metadata": {},
   "outputs": [],
   "source": [
    "pg_conn.close()"
   ]
  }
 ],
 "metadata": {
  "kernelspec": {
   "display_name": "polars-pyarrow",
   "language": "python",
   "name": "python3"
  },
  "language_info": {
   "codemirror_mode": {
    "name": "ipython",
    "version": 3
   },
   "file_extension": ".py",
   "mimetype": "text/x-python",
   "name": "python",
   "nbconvert_exporter": "python",
   "pygments_lexer": "ipython3",
   "version": "3.10.9"
  },
  "orig_nbformat": 4,
  "vscode": {
   "interpreter": {
    "hash": "a7c3fff5bad2fddd34fd8903cb764ad0e9bb28a0912d6a8980e07c59f82ac2dd"
   }
  }
 },
 "nbformat": 4,
 "nbformat_minor": 2
}
